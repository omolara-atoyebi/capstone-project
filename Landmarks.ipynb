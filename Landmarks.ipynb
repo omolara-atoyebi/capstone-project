{
 "cells": [
  {
   "cell_type": "code",
   "execution_count": 2,
   "metadata": {},
   "outputs": [],
   "source": [
    "import cv2\n",
    "import mediapipe as mp\n",
    "import numpy as np\n",
    "import pandas as pd \n",
    "import csv\n",
    "import os"
   ]
  },
  {
   "cell_type": "code",
   "execution_count": 3,
   "metadata": {},
   "outputs": [],
   "source": [
    "mp_drawing = mp.solutions.drawing_utils\n",
    "mp_drawing_styles = mp.solutions.drawing_styles\n",
    "mp_pose = mp.solutions.pose"
   ]
  },
  {
   "cell_type": "code",
   "execution_count": 22,
   "metadata": {},
   "outputs": [],
   "source": [
    "cap = cv2.VideoCapture('./video/freestyle/freestyleSwim1.mp4')\n",
    "with mp_pose.Pose(\n",
    "            #enable_segmentation=True,\n",
    "            min_detection_confidence = 0.5,\n",
    "            min_tracking_confidence = 0.5) as pose:\n",
    "    while cap.isOpened():\n",
    "        ret,frame = cap.read()\n",
    "        if not ret:\n",
    "            break\n",
    "      # If loading a video, use 'break' instead of 'continue'.\n",
    "            \n",
    "        image = cv2.cvtColor(frame, cv2.COLOR_BGR2RGB)\n",
    "        image.flags.writeable =False\n",
    "\n",
    "        results = pose.process(image)\n",
    "        #print(results)\n",
    "\n",
    "        image.flags.writeable =True\n",
    "        image = cv2.cvtColor(image, cv2.COLOR_RGB2BGR)\n",
    "\n",
    "        #extract landmarks \n",
    "        try:\n",
    "            landmarks = results.pose_landmarks.landmark\n",
    "        except:\n",
    "            pass\n",
    "\n",
    "        mp_drawing.draw_landmarks(image, results.pose_landmarks, mp_pose.POSE_CONNECTIONS,landmark_drawing_spec=mp_drawing_styles.get_default_pose_landmarks_style())\n",
    "\n",
    "\n",
    "        cv2.namedWindow('swimming video',cv2.WINDOW_NORMAL)\n",
    "        cv2.imshow('swimming video', cv2.flip(image, 1))\n",
    "\n",
    "\n",
    "        if cv2.waitKey(10) & 0xFF == 27:\n",
    "            break\n",
    "\n",
    "    cap.release()\n",
    "    cv2.destroyAllWindows()\n",
    "    cv2.waitKey(0)"
   ]
  },
  {
   "cell_type": "code",
   "execution_count": null,
   "metadata": {},
   "outputs": [],
   "source": []
  },
  {
   "cell_type": "code",
   "execution_count": 23,
   "metadata": {},
   "outputs": [],
   "source": [
    "norm_cord = len(results.pose_landmarks.landmark)"
   ]
  },
  {
   "cell_type": "code",
   "execution_count": 24,
   "metadata": {},
   "outputs": [],
   "source": [
    "landmarks = ['class']\n",
    "for i in range(1,norm_cord+1):\n",
    "    landmarks += ['x{}'.format(i),'y{}'.format(i),'z{}'.format(i)]"
   ]
  },
  {
   "cell_type": "code",
   "execution_count": 27,
   "metadata": {},
   "outputs": [],
   "source": [
    "with open('cords.csv', mode = 'w', newline='') as f:\n",
    "    csv_writer = csv.writer(f,delimiter=',', quotechar='\"',quoting=csv.QUOTE_MINIMAL)\n",
    "    csv_writer.writerow(landmarks)"
   ]
  },
  {
   "cell_type": "code",
   "execution_count": 19,
   "metadata": {},
   "outputs": [],
   "source": [
    "class_name = \"backstroke\""
   ]
  },
  {
   "cell_type": "code",
   "execution_count": 26,
   "metadata": {},
   "outputs": [],
   "source": [
    "cap = cv2.VideoCapture('./video/backstroke/backstrokeSwim8.mp4')\n",
    "with mp_pose.Pose(\n",
    "            #enable_segmentation=True,\n",
    "            min_detection_confidence = 0.5,\n",
    "            min_tracking_confidence = 0.5) as pose:\n",
    "    while cap.isOpened():\n",
    "        ret,frame = cap.read()\n",
    "        if not ret:\n",
    "            break\n",
    "      # If loading a video, use 'break' instead of 'continue'.\n",
    "            \n",
    "        image = cv2.cvtColor(frame, cv2.COLOR_BGR2RGB)\n",
    "        image.flags.writeable =False\n",
    "\n",
    "        results = pose.process(image)\n",
    "        #print(results)\n",
    "\n",
    "        image.flags.writeable =True\n",
    "        image = cv2.cvtColor(image, cv2.COLOR_RGB2BGR)\n",
    "\n",
    "        \n",
    "\n",
    "        mp_drawing.draw_landmarks(image, results.pose_landmarks, mp_pose.POSE_CONNECTIONS,landmark_drawing_spec=mp_drawing_styles.get_default_pose_landmarks_style())\n",
    "\n",
    "#extract landmarks \n",
    "        try:\n",
    "            pose_lan = results.pose_landmarks.landmark\n",
    "            pose_row = list(np.array([[landmark.x,landmark.y,landmark.z,landmark.visibility]for landmark in pose_lan]).flatten())\n",
    "            row= pose_row\n",
    "            row.insert(0,class_name)\n",
    "            with open('cords.csv', mode = 'a', newline='') as f:\n",
    "                csv_writer = csv.writer(f,delimiter=',', quotechar='\"',quoting=csv.QUOTE_MINIMAL)\n",
    "                csv_writer.writerow(row)\n",
    "\n",
    "        except:\n",
    "            pass\n",
    "\n",
    "        cv2.namedWindow('swimming video',cv2.WINDOW_NORMAL)\n",
    "        cv2.imshow('swimming video', cv2.flip(image, 1))\n",
    "\n",
    "\n",
    "        if cv2.waitKey(10) & 0xFF == 27:\n",
    "            break\n",
    "\n",
    "    cap.release()\n",
    "    cv2.destroyAllWindows()\n",
    "    cv2.waitKey(0)"
   ]
  }
 ],
 "metadata": {
  "kernelspec": {
   "display_name": "Python 3.8.13 ('openCV_environ')",
   "language": "python",
   "name": "python3"
  },
  "language_info": {
   "codemirror_mode": {
    "name": "ipython",
    "version": 3
   },
   "file_extension": ".py",
   "mimetype": "text/x-python",
   "name": "python",
   "nbconvert_exporter": "python",
   "pygments_lexer": "ipython3",
   "version": "3.8.13"
  },
  "orig_nbformat": 4,
  "vscode": {
   "interpreter": {
    "hash": "497beb55dfe38077624297e125e36959e792a5838f173e475143d4a698e832b3"
   }
  }
 },
 "nbformat": 4,
 "nbformat_minor": 2
}
