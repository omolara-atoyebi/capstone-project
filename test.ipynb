{
 "cells": [
  {
   "cell_type": "code",
   "execution_count": 1,
   "metadata": {},
   "outputs": [],
   "source": [
    "import cv2\n",
    "import mediapipe as mp\n",
    "import numpy as np\n",
    "import nb_helpers\n",
    "from matplotlib import animation\n",
    "import PyQt5\n",
    "from PIL import Image\n",
    "from IPython.display import Video\n",
    "import pickle\n"
   ]
  },
  {
   "cell_type": "code",
   "execution_count": 2,
   "metadata": {},
   "outputs": [],
   "source": [
    "mp_drawing = mp.solutions.drawing_utils\n",
    "mp_drawing_styles = mp.solutions.drawing_styles\n",
    "mp_pose = mp.solutions.pose\n",
    "mp_holistic = mp.solutions.holistic"
   ]
  },
  {
   "cell_type": "code",
   "execution_count": 3,
   "metadata": {},
   "outputs": [
    {
     "ename": "KeyboardInterrupt",
     "evalue": "",
     "output_type": "error",
     "traceback": [
      "\u001b[1;31m---------------------------------------------------------------------------\u001b[0m",
      "\u001b[1;31mKeyboardInterrupt\u001b[0m                         Traceback (most recent call last)",
      "\u001b[1;32mc:\\Users\\omolara\\Documents\\strive school\\capstone-project\\test.ipynb Cell 3\u001b[0m in \u001b[0;36m<cell line: 2>\u001b[1;34m()\u001b[0m\n\u001b[0;32m      <a href='vscode-notebook-cell:/c%3A/Users/omolara/Documents/strive%20school/capstone-project/test.ipynb#W2sZmlsZQ%3D%3D?line=4'>5</a>\u001b[0m     cv2\u001b[39m.\u001b[39mnamedWindow(\u001b[39m'\u001b[39m\u001b[39mvideo\u001b[39m\u001b[39m'\u001b[39m,cv2\u001b[39m.\u001b[39mWINDOW_NORMAL)\n\u001b[0;32m      <a href='vscode-notebook-cell:/c%3A/Users/omolara/Documents/strive%20school/capstone-project/test.ipynb#W2sZmlsZQ%3D%3D?line=5'>6</a>\u001b[0m     cv2\u001b[39m.\u001b[39mimshow(\u001b[39m'\u001b[39m\u001b[39mvideo\u001b[39m\u001b[39m'\u001b[39m, frame)\n\u001b[1;32m----> <a href='vscode-notebook-cell:/c%3A/Users/omolara/Documents/strive%20school/capstone-project/test.ipynb#W2sZmlsZQ%3D%3D?line=8'>9</a>\u001b[0m     \u001b[39mif\u001b[39;00m cv2\u001b[39m.\u001b[39;49mwaitKey(\u001b[39m10\u001b[39;49m) \u001b[39m&\u001b[39m \u001b[39m0xFF\u001b[39m \u001b[39m==\u001b[39m \u001b[39mord\u001b[39m(\u001b[39m'\u001b[39m\u001b[39mq\u001b[39m\u001b[39m'\u001b[39m):\n\u001b[0;32m     <a href='vscode-notebook-cell:/c%3A/Users/omolara/Documents/strive%20school/capstone-project/test.ipynb#W2sZmlsZQ%3D%3D?line=9'>10</a>\u001b[0m         \u001b[39mbreak\u001b[39;00m\n\u001b[0;32m     <a href='vscode-notebook-cell:/c%3A/Users/omolara/Documents/strive%20school/capstone-project/test.ipynb#W2sZmlsZQ%3D%3D?line=11'>12</a>\u001b[0m cap\u001b[39m.\u001b[39mrelease()\n",
      "\u001b[1;31mKeyboardInterrupt\u001b[0m: "
     ]
    }
   ],
   "source": [
    "cap = cv2.VideoCapture('My video.mp4')\n",
    "while cap.isOpened():\n",
    "    ret,frame = cap.read()\n",
    "    \n",
    "    cv2.namedWindow('video',cv2.WINDOW_NORMAL)\n",
    "    cv2.imshow('video', frame)\n",
    "\n",
    "\n",
    "    if cv2.waitKey(10) & 0xFF == ord('q'):\n",
    "        break\n",
    "\n",
    "cap.release()\n",
    "cv2.destroyAllWindows()"
   ]
  },
  {
   "cell_type": "code",
   "execution_count": null,
   "metadata": {},
   "outputs": [],
   "source": [
    "cap = cv2.VideoCapture(0)\n",
    "with mp_pose.Pose(\n",
    "            static_image_mode=False,\n",
    "            min_detection_confidence = 0.5,\n",
    "            min_tracking_confidence = 0.5) as pose:\n",
    "    while cap.isOpened():\n",
    "        ret,frame = cap.read()\n",
    "\n",
    "        image = cv2.cvtColor(frame, cv2.COLOR_BGR2RGB)\n",
    "        #image.flags.writeable =False\n",
    "\n",
    "        results = pose.process(image)\n",
    "    print(results)\n",
    "\n",
    "    #     image.flags.writeable =True\n",
    "    #     image = cv2.cvtColor(image, cv2.COLOR_RGB2BGR)\n",
    "\n",
    "    #     mp_drawing.draw_landmarks(image, results.pose_landmarks, mp_pose.POSE_CONNECTIONS)\n",
    "\n",
    "\n",
    "    #     cv2.namedWindow('swimming video',cv2.WINDOW_NORMAL)\n",
    "    #     cv2.imshow('swimming video', image)\n",
    "\n",
    "\n",
    "    #     if cv2.waitKey(10) & 0xFF == ord('q'):\n",
    "    #         break\n",
    "\n",
    "    # cap.release()\n",
    "    # cv2.destroyAllWindows()"
   ]
  },
  {
   "cell_type": "code",
   "execution_count": 13,
   "metadata": {},
   "outputs": [
    {
     "data": {
      "text/plain": [
       "<enum 'PoseLandmark'>"
      ]
     },
     "execution_count": 13,
     "metadata": {},
     "output_type": "execute_result"
    }
   ],
   "source": [
    "poselandmarks_list = mp_pose.PoseLandmark\n",
    "poselandmarks_list\n",
    "\n",
    "#results.pose_landmarks"
   ]
  },
  {
   "cell_type": "code",
   "execution_count": null,
   "metadata": {},
   "outputs": [],
   "source": [
    "#cap = cv2.VideoCapture('My video.mp4')\n",
    "#poselandmarks_list = nb_helpers.poselandmarks_list\n",
    "with mp_pose.Pose(\n",
    "            \n",
    "            min_detection_confidence = 0.5,\n",
    "            min_tracking_confidence = 0.5) as pose:\n",
    "\n",
    "    cap = cv2.VideoCapture('My video.mp4')\n",
    "    length = int(cap.get(cv2.CAP_PROP_FRAME_COUNT))\n",
    "    data = np.empty((3, len(poselandmarks_list), length))\n",
    "    #print(data)\n",
    "\n",
    "    frame_num = 0\n",
    "    while cap.isOpened():\n",
    "        ret,frame = cap.read()\n",
    "        image = cv2.cvtColor(frame, cv2.COLOR_BGR2RGB)\n",
    "\n",
    "        image = cv2.cvtColor(cv2.flip(frame,1), cv2.COLOR_BGR2RGB)\n",
    "        #image.flags.writeable =False\n",
    "\n",
    "        results = pose.process(image)\n",
    "        print(results)\n",
    "\n",
    "        # image.flags.writeable =True\n",
    "        # image = cv2.cvtColor(image, cv2.COLOR_RGB2BGR)\n",
    "\n",
    "        #mp_drawing.draw_landmarks(image, results.pose_landmarks, mp_pose.POSE_CONNECTIONS)\n",
    "#         landmarks = results.pose_world_landmarks.landmark\n",
    "#         for i in range(len(mp_pose.PoseLandmark)):\n",
    "#             data[:, i, frame_num] = (landmarks[i].x, landmarks[i].y, landmarks[i].z)  \n",
    "        \n",
    "#         frame_num += 1\n",
    "\n",
    "#         #cv2.namedWindow('swimming video',cv2.WINDOW_NORMAL)\n",
    "#         cv2.imshow('swimming video', image)\n",
    "\n",
    "\n",
    "#         if cv2.waitKey(10) & 0xFF == ord('q'):\n",
    "#             break\n",
    "\n",
    "#     cap.release()\n",
    "#     cv2.destroyAllWindows()"
   ]
  },
  {
   "cell_type": "code",
   "execution_count": null,
   "metadata": {},
   "outputs": [],
   "source": []
  },
  {
   "cell_type": "code",
   "execution_count": null,
   "metadata": {},
   "outputs": [],
   "source": [
    "a = results.pose_landmarks\n",
    "print(a)"
   ]
  }
 ],
 "metadata": {
  "kernelspec": {
   "display_name": "Python 3.8.13 ('openCV_environ')",
   "language": "python",
   "name": "python3"
  },
  "language_info": {
   "codemirror_mode": {
    "name": "ipython",
    "version": 3
   },
   "file_extension": ".py",
   "mimetype": "text/x-python",
   "name": "python",
   "nbconvert_exporter": "python",
   "pygments_lexer": "ipython3",
   "version": "3.8.13"
  },
  "orig_nbformat": 4,
  "vscode": {
   "interpreter": {
    "hash": "497beb55dfe38077624297e125e36959e792a5838f173e475143d4a698e832b3"
   }
  }
 },
 "nbformat": 4,
 "nbformat_minor": 2
}
