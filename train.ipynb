{
 "cells": [
  {
   "cell_type": "code",
   "execution_count": 64,
   "metadata": {},
   "outputs": [],
   "source": [
    "import pandas as pd\n",
    "from  sklearn.model_selection import train_test_split\n",
    "from sklearn.metrics import accuracy_score\n",
    "from sklearn.ensemble import RandomForestClassifier, GradientBoostingClassifier\n",
    "from sklearn.linear_model import LogisticRegression\n",
    "from sklearn.preprocessing import StandardScaler"
   ]
  },
  {
   "cell_type": "code",
   "execution_count": 51,
   "metadata": {},
   "outputs": [
    {
     "data": {
      "text/html": [
       "<div>\n",
       "<style scoped>\n",
       "    .dataframe tbody tr th:only-of-type {\n",
       "        vertical-align: middle;\n",
       "    }\n",
       "\n",
       "    .dataframe tbody tr th {\n",
       "        vertical-align: top;\n",
       "    }\n",
       "\n",
       "    .dataframe thead th {\n",
       "        text-align: right;\n",
       "    }\n",
       "</style>\n",
       "<table border=\"1\" class=\"dataframe\">\n",
       "  <thead>\n",
       "    <tr style=\"text-align: right;\">\n",
       "      <th></th>\n",
       "      <th>class</th>\n",
       "      <th>x1</th>\n",
       "      <th>y1</th>\n",
       "      <th>z1</th>\n",
       "      <th>v1</th>\n",
       "      <th>x2</th>\n",
       "      <th>y2</th>\n",
       "      <th>z2</th>\n",
       "      <th>v2</th>\n",
       "      <th>x3</th>\n",
       "      <th>...</th>\n",
       "      <th>z31</th>\n",
       "      <th>v31</th>\n",
       "      <th>x32</th>\n",
       "      <th>y32</th>\n",
       "      <th>z32</th>\n",
       "      <th>v32</th>\n",
       "      <th>x33</th>\n",
       "      <th>y33</th>\n",
       "      <th>z33</th>\n",
       "      <th>v33</th>\n",
       "    </tr>\n",
       "  </thead>\n",
       "  <tbody>\n",
       "    <tr>\n",
       "      <th>0</th>\n",
       "      <td>Freestyle</td>\n",
       "      <td>0.271574</td>\n",
       "      <td>0.515756</td>\n",
       "      <td>-0.059295</td>\n",
       "      <td>0.999835</td>\n",
       "      <td>0.264464</td>\n",
       "      <td>0.497132</td>\n",
       "      <td>-0.074865</td>\n",
       "      <td>0.999689</td>\n",
       "      <td>0.265637</td>\n",
       "      <td>...</td>\n",
       "      <td>0.240531</td>\n",
       "      <td>0.875268</td>\n",
       "      <td>0.854071</td>\n",
       "      <td>0.568820</td>\n",
       "      <td>-0.135742</td>\n",
       "      <td>0.988789</td>\n",
       "      <td>0.828127</td>\n",
       "      <td>0.580919</td>\n",
       "      <td>0.154501</td>\n",
       "      <td>0.928865</td>\n",
       "    </tr>\n",
       "    <tr>\n",
       "      <th>1</th>\n",
       "      <td>Freestyle</td>\n",
       "      <td>0.272855</td>\n",
       "      <td>0.515763</td>\n",
       "      <td>-0.060864</td>\n",
       "      <td>0.999837</td>\n",
       "      <td>0.265351</td>\n",
       "      <td>0.497493</td>\n",
       "      <td>-0.076014</td>\n",
       "      <td>0.999694</td>\n",
       "      <td>0.266476</td>\n",
       "      <td>...</td>\n",
       "      <td>0.232041</td>\n",
       "      <td>0.875332</td>\n",
       "      <td>0.853602</td>\n",
       "      <td>0.568767</td>\n",
       "      <td>-0.145573</td>\n",
       "      <td>0.988810</td>\n",
       "      <td>0.828925</td>\n",
       "      <td>0.581788</td>\n",
       "      <td>0.143508</td>\n",
       "      <td>0.929970</td>\n",
       "    </tr>\n",
       "    <tr>\n",
       "      <th>2</th>\n",
       "      <td>Freestyle</td>\n",
       "      <td>0.273746</td>\n",
       "      <td>0.515565</td>\n",
       "      <td>-0.060854</td>\n",
       "      <td>0.999839</td>\n",
       "      <td>0.265821</td>\n",
       "      <td>0.497491</td>\n",
       "      <td>-0.075905</td>\n",
       "      <td>0.999698</td>\n",
       "      <td>0.266901</td>\n",
       "      <td>...</td>\n",
       "      <td>0.230855</td>\n",
       "      <td>0.875562</td>\n",
       "      <td>0.853433</td>\n",
       "      <td>0.568767</td>\n",
       "      <td>-0.149891</td>\n",
       "      <td>0.988875</td>\n",
       "      <td>0.829547</td>\n",
       "      <td>0.582881</td>\n",
       "      <td>0.141380</td>\n",
       "      <td>0.931299</td>\n",
       "    </tr>\n",
       "    <tr>\n",
       "      <th>3</th>\n",
       "      <td>Freestyle</td>\n",
       "      <td>0.274437</td>\n",
       "      <td>0.515490</td>\n",
       "      <td>-0.060832</td>\n",
       "      <td>0.999839</td>\n",
       "      <td>0.266218</td>\n",
       "      <td>0.497497</td>\n",
       "      <td>-0.075768</td>\n",
       "      <td>0.999699</td>\n",
       "      <td>0.267258</td>\n",
       "      <td>...</td>\n",
       "      <td>0.231679</td>\n",
       "      <td>0.875348</td>\n",
       "      <td>0.853423</td>\n",
       "      <td>0.568719</td>\n",
       "      <td>-0.149804</td>\n",
       "      <td>0.988860</td>\n",
       "      <td>0.830335</td>\n",
       "      <td>0.583292</td>\n",
       "      <td>0.142824</td>\n",
       "      <td>0.931993</td>\n",
       "    </tr>\n",
       "    <tr>\n",
       "      <th>4</th>\n",
       "      <td>Freestyle</td>\n",
       "      <td>0.274913</td>\n",
       "      <td>0.515412</td>\n",
       "      <td>-0.056477</td>\n",
       "      <td>0.999837</td>\n",
       "      <td>0.266498</td>\n",
       "      <td>0.497498</td>\n",
       "      <td>-0.071019</td>\n",
       "      <td>0.999697</td>\n",
       "      <td>0.267513</td>\n",
       "      <td>...</td>\n",
       "      <td>0.231361</td>\n",
       "      <td>0.875024</td>\n",
       "      <td>0.853483</td>\n",
       "      <td>0.568528</td>\n",
       "      <td>-0.152384</td>\n",
       "      <td>0.988825</td>\n",
       "      <td>0.830932</td>\n",
       "      <td>0.583363</td>\n",
       "      <td>0.142766</td>\n",
       "      <td>0.932461</td>\n",
       "    </tr>\n",
       "  </tbody>\n",
       "</table>\n",
       "<p>5 rows × 133 columns</p>\n",
       "</div>"
      ],
      "text/plain": [
       "       class        x1        y1        z1        v1        x2        y2  \\\n",
       "0  Freestyle  0.271574  0.515756 -0.059295  0.999835  0.264464  0.497132   \n",
       "1  Freestyle  0.272855  0.515763 -0.060864  0.999837  0.265351  0.497493   \n",
       "2  Freestyle  0.273746  0.515565 -0.060854  0.999839  0.265821  0.497491   \n",
       "3  Freestyle  0.274437  0.515490 -0.060832  0.999839  0.266218  0.497497   \n",
       "4  Freestyle  0.274913  0.515412 -0.056477  0.999837  0.266498  0.497498   \n",
       "\n",
       "         z2        v2        x3  ...       z31       v31       x32       y32  \\\n",
       "0 -0.074865  0.999689  0.265637  ...  0.240531  0.875268  0.854071  0.568820   \n",
       "1 -0.076014  0.999694  0.266476  ...  0.232041  0.875332  0.853602  0.568767   \n",
       "2 -0.075905  0.999698  0.266901  ...  0.230855  0.875562  0.853433  0.568767   \n",
       "3 -0.075768  0.999699  0.267258  ...  0.231679  0.875348  0.853423  0.568719   \n",
       "4 -0.071019  0.999697  0.267513  ...  0.231361  0.875024  0.853483  0.568528   \n",
       "\n",
       "        z32       v32       x33       y33       z33       v33  \n",
       "0 -0.135742  0.988789  0.828127  0.580919  0.154501  0.928865  \n",
       "1 -0.145573  0.988810  0.828925  0.581788  0.143508  0.929970  \n",
       "2 -0.149891  0.988875  0.829547  0.582881  0.141380  0.931299  \n",
       "3 -0.149804  0.988860  0.830335  0.583292  0.142824  0.931993  \n",
       "4 -0.152384  0.988825  0.830932  0.583363  0.142766  0.932461  \n",
       "\n",
       "[5 rows x 133 columns]"
      ]
     },
     "execution_count": 51,
     "metadata": {},
     "output_type": "execute_result"
    }
   ],
   "source": [
    "\n",
    "\n",
    "\n",
    "df = pd.read_csv('cords.csv')\n",
    "\n",
    "\n",
    "\n",
    "df.head()\n"
   ]
  },
  {
   "cell_type": "code",
   "execution_count": 52,
   "metadata": {},
   "outputs": [],
   "source": [
    "x = df.drop('class',axis = 1)\n",
    "y = df['class']"
   ]
  },
  {
   "cell_type": "code",
   "execution_count": 53,
   "metadata": {},
   "outputs": [],
   "source": [
    "x_train,x_test,y_train,y_test = train_test_split(x,y,test_size=0.3,random_state=42,stratify=y)"
   ]
  },
  {
   "cell_type": "code",
   "execution_count": null,
   "metadata": {},
   "outputs": [],
   "source": [
    "y_train"
   ]
  },
  {
   "cell_type": "code",
   "execution_count": 69,
   "metadata": {},
   "outputs": [],
   "source": [
    "from sklearn.pipeline import make_pipeline\n",
    "\n",
    "\n",
    "pipelines = {'lr': make_pipeline(StandardScaler(), LogisticRegression()),\n",
    "            'rf': make_pipeline(StandardScaler(), RandomForestClassifier()),\n",
    "            'gc': make_pipeline(StandardScaler(), GradientBoostingClassifier()),}"
   ]
  },
  {
   "cell_type": "code",
   "execution_count": 70,
   "metadata": {},
   "outputs": [
    {
     "name": "stderr",
     "output_type": "stream",
     "text": [
      "c:\\Users\\omolara\\anaconda3\\envs\\openCV_environ\\lib\\site-packages\\sklearn\\linear_model\\_logistic.py:814: ConvergenceWarning: lbfgs failed to converge (status=1):\n",
      "STOP: TOTAL NO. of ITERATIONS REACHED LIMIT.\n",
      "\n",
      "Increase the number of iterations (max_iter) or scale the data as shown in:\n",
      "    https://scikit-learn.org/stable/modules/preprocessing.html\n",
      "Please also refer to the documentation for alternative solver options:\n",
      "    https://scikit-learn.org/stable/modules/linear_model.html#logistic-regression\n",
      "  n_iter_i = _check_optimize_result(\n"
     ]
    }
   ],
   "source": [
    "fit_models = {}\n",
    "for algo, pipeline in pipelines.items():\n",
    "    model = pipeline.fit(x_train,y_train)\n",
    "    fit_models[algo] = model"
   ]
  },
  {
   "cell_type": "code",
   "execution_count": 73,
   "metadata": {},
   "outputs": [
    {
     "name": "stdout",
     "output_type": "stream",
     "text": [
      "lr 0.9686632288774296\n",
      "rf 0.9980166600555335\n",
      "gc 0.9952399841332804\n"
     ]
    }
   ],
   "source": [
    "for algo , model in fit_models.items():\n",
    "    y_pred = model.predict(x_test)\n",
    "    print(algo,accuracy_score(y_test,y_pred))"
   ]
  },
  {
   "cell_type": "code",
   "execution_count": 77,
   "metadata": {},
   "outputs": [
    {
     "data": {
      "text/plain": [
       "array(['Breaststroke', 'Backtstroke', 'Freestyle', ..., 'Breaststroke',\n",
       "       'Freestyle', 'Breaststroke'], dtype=object)"
      ]
     },
     "execution_count": 77,
     "metadata": {},
     "output_type": "execute_result"
    }
   ],
   "source": [
    "a =fit_models['rf'].predict(x_test)\n",
    "a"
   ]
  },
  {
   "cell_type": "code",
   "execution_count": 82,
   "metadata": {},
   "outputs": [],
   "source": [
    "import pickle\n",
    "\n",
    "\n",
    "with open('swim_style.pkl','wb') as f:\n",
    "    pickle.dump(fit_models['rf'],f)"
   ]
  },
  {
   "cell_type": "code",
   "execution_count": 83,
   "metadata": {},
   "outputs": [],
   "source": [
    "with open('swim_style.pkl','rb') as f:\n",
    "    model = pickle.load(f)"
   ]
  },
  {
   "cell_type": "code",
   "execution_count": null,
   "metadata": {},
   "outputs": [],
   "source": []
  }
 ],
 "metadata": {
  "kernelspec": {
   "display_name": "Python 3.8.13 ('openCV_environ')",
   "language": "python",
   "name": "python3"
  },
  "language_info": {
   "codemirror_mode": {
    "name": "ipython",
    "version": 3
   },
   "file_extension": ".py",
   "mimetype": "text/x-python",
   "name": "python",
   "nbconvert_exporter": "python",
   "pygments_lexer": "ipython3",
   "version": "3.8.13"
  },
  "orig_nbformat": 4,
  "vscode": {
   "interpreter": {
    "hash": "497beb55dfe38077624297e125e36959e792a5838f173e475143d4a698e832b3"
   }
  }
 },
 "nbformat": 4,
 "nbformat_minor": 2
}
